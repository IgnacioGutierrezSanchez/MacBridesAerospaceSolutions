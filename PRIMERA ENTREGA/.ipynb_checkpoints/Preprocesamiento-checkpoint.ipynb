{
 "cells": [
  {
   "cell_type": "markdown",
   "metadata": {},
   "source": [
    "# Procesamiento de Datos ADS-B desde Archivo Comprimido\n",
    "\n",
    "Este notebook realiza el procesamiento de datos ADS-B capturados por una antena, extrayéndolos desde un archivo comprimido y aplicando varias transformaciones para su análisis. A continuación, se detallan los pasos principales:\n",
    "\n",
    "## 1. Extracción de Datos\n",
    "\n",
    "Se descomprime un archivo `.tar` que contiene los datos en formato CSV. Una vez extraídos, se selecciona el archivo CSV adecuado para su procesamiento.\n",
    "\n",
    "## 2. Carga y Preprocesamiento de Datos\n",
    "\n",
    "- Se utiliza `dask.dataframe` para manejar grandes volúmenes de datos de manera eficiente.\n",
    "- Se eliminan columnas innecesarias y se convierte la columna de timestamps (`ts_kafka`) a un formato de fecha y hora legible.\n",
    "- Se decodifican los mensajes en base64 a su formato hexadecimal.\n",
    "\n",
    "## 3. Extracción de Información Relevante\n",
    "\n",
    "A partir de los mensajes decodificados, se extraen los siguientes parámetros:\n",
    "\n",
    "- **ICAO**: Identificador único de la aeronave.\n",
    "- **Velocidad**: En nudos, calculada a partir del mensaje ADS-B.\n",
    "- **Rumbo**: Dirección de movimiento en grados.\n",
    "- **Tasa de ascenso/descenso**: Medida en pies por minuto.\n",
    "- **Capacidad del transpondedor**: Se interpretan los 3 bits CA para determinar el tipo de transpondedor y su estado.\n",
    "\n",
    "## 4. Conversión y Agrupación por Fecha\n",
    "\n",
    "- Se convierten los timestamps a un formato estándar (YYYY-MM-DD HH:MM:SS).\n",
    "- Se identifican los días únicos presentes en los datos.\n",
    "- Se segmenta el DataFrame en subconjuntos diarios y se almacenan en archivos CSV individuales \n",
    "## 5. Visualización de Capability\n",
    "\n",
    "Se cargan los datos desde el archivo CSV utilizando `dask.dataframe` y se realiza el procesamiento inicial:\n",
    "para facilitar su análisis.\n",
    "\n",
    "Este flujo de trabajo permite procesar eficientemente los datos de vuelo y generar información útil para su análisis posterior.\n"
   ]
  },
  {
   "cell_type": "code",
   "execution_count": 1,
   "metadata": {},
   "outputs": [],
   "source": [
    "#!pip install pyModeS"
   ]
  },
  {
   "cell_type": "code",
   "execution_count": 2,
   "metadata": {},
   "outputs": [],
   "source": [
    "#!pip install dask"
   ]
  },
  {
   "cell_type": "code",
   "execution_count": 41,
   "metadata": {
    "executionInfo": {
     "elapsed": 3,
     "status": "ok",
     "timestamp": 1738239625848,
     "user": {
      "displayName": "Ignacio Gutiérrez Sánchez",
      "userId": "17479865796464669388"
     },
     "user_tz": -60
    },
    "id": "rNpJYoc4fG9o"
   },
   "outputs": [],
   "source": [
    "import pandas as pd\n",
    "from pathlib import Path\n",
    "import pyModeS as pms\n",
    "import base64\n",
    "import tarfile\n",
    "from datetime import datetime\n",
    "import matplotlib.pyplot as plt\n",
    "import dask.dataframe as dd\n",
    "from pyModeS import common, adsb\n",
    "import plotly.express as px"
   ]
  },
  {
   "cell_type": "markdown",
   "metadata": {},
   "source": [
    "Los datos semanales se han descargado de \"auxiliar.csv\". Hemos tranformado la columna 'ts_kafka' a tiempo con fecha y tiempo y los datos semanales han sido fraccionados en 7 dataframes por dias"
   ]
  },
  {
   "cell_type": "code",
   "execution_count": 4,
   "metadata": {},
   "outputs": [],
   "source": [
    "#path = Path('auxiliar.csv')\n",
    "#csv_file = path\n",
    "#data = pd.read_csv(csv_file, sep = ';')\n",
    "#data = df2[[\"ts_kafka\", \"message\"]]\n",
    "#df = pd.DataFrame(data)\n",
    "#df[\"date\"] = pd.to_datetime(df[\"date\"])  # Convertir a formato datetime\n",
    "\n",
    "#days = df[\"date\"].dt.date.unique()  # Obtener días únicos\n",
    "\n",
    "# Guardar cada día en un archivo separado\n",
    "#for day in days:\n",
    "    #df_day = df[df[\"date\"].dt.date == day]\n",
    "    #filename = f\"data_{day}.csv\"\n",
    "    #df_day.to_csv(filename, index=False)\n",
    "    #print(f\"Archivo guardado: {filename}\")"
   ]
  },
  {
   "cell_type": "code",
   "execution_count": 22,
   "metadata": {},
   "outputs": [
    {
     "name": "stdout",
     "output_type": "stream",
     "text": [
      "Archivos extraídos: ['._202412010000_202412072359.csv', '202412010000_202412072359.csv']\n"
     ]
    }
   ],
   "source": [
    "from pathlib import Path\n",
    "import tarfile\n",
    "\n",
    "tar_path = Path('auxiliar.tar')  # Reemplaza con tu archivo\n",
    "extract_path = Path('.')  # Extrae en la carpeta actual\n",
    "\n",
    "with tarfile.open(tar_path, \"r\") as tar:\n",
    "    tar.extractall(extract_path)  # Extrae los archivos dentro de la misma carpeta\n",
    "    tar_files = tar.getnames()  # Lista de archivos extraídos\n",
    "\n",
    "print(\"Archivos extraídos:\", tar_files)"
   ]
  },
  {
   "cell_type": "code",
   "execution_count": 23,
   "metadata": {},
   "outputs": [
    {
     "data": {
      "text/html": [
       "<div><strong>Dask DataFrame Structure:</strong></div>\n",
       "<table border=\"1\" class=\"dataframe\">\n",
       "  <thead>\n",
       "    <tr style=\"text-align: right;\">\n",
       "      <th></th>\n",
       "      <th>ts_kafka</th>\n",
       "      <th>message</th>\n",
       "      <th>Unnamed: 2</th>\n",
       "    </tr>\n",
       "    <tr>\n",
       "      <th>npartitions=153</th>\n",
       "      <th></th>\n",
       "      <th></th>\n",
       "      <th></th>\n",
       "    </tr>\n",
       "  </thead>\n",
       "  <tbody>\n",
       "    <tr>\n",
       "      <th></th>\n",
       "      <td>int64</td>\n",
       "      <td>string</td>\n",
       "      <td>float64</td>\n",
       "    </tr>\n",
       "    <tr>\n",
       "      <th></th>\n",
       "      <td>...</td>\n",
       "      <td>...</td>\n",
       "      <td>...</td>\n",
       "    </tr>\n",
       "    <tr>\n",
       "      <th>...</th>\n",
       "      <td>...</td>\n",
       "      <td>...</td>\n",
       "      <td>...</td>\n",
       "    </tr>\n",
       "    <tr>\n",
       "      <th></th>\n",
       "      <td>...</td>\n",
       "      <td>...</td>\n",
       "      <td>...</td>\n",
       "    </tr>\n",
       "    <tr>\n",
       "      <th></th>\n",
       "      <td>...</td>\n",
       "      <td>...</td>\n",
       "      <td>...</td>\n",
       "    </tr>\n",
       "  </tbody>\n",
       "</table>\n",
       "<div>Dask Name: to_string_dtype, 2 expressions</div>"
      ],
      "text/plain": [
       "Dask DataFrame Structure:\n",
       "                ts_kafka message Unnamed: 2\n",
       "npartitions=153                            \n",
       "                   int64  string    float64\n",
       "                     ...     ...        ...\n",
       "...                  ...     ...        ...\n",
       "                     ...     ...        ...\n",
       "                     ...     ...        ...\n",
       "Dask Name: to_string_dtype, 2 expressions\n",
       "Expr=ArrowStringConversion(frame=FromMapProjectable(603cee4))"
      ]
     },
     "execution_count": 23,
     "metadata": {},
     "output_type": "execute_result"
    }
   ],
   "source": [
    "# Leer el archivo CSV\n",
    "csv_file = Path(extract_path) / tar_files[1]  # Usa el primer archivo extraído\n",
    "df = dd.read_csv(csv_file, sep=\";\")\n",
    "df = df.drop(columns=[\"Unnamed: 2\"])\n",
    "df"
   ]
  },
  {
   "cell_type": "code",
   "execution_count": 5,
   "metadata": {},
   "outputs": [
    {
     "data": {
      "text/html": [
       "<div>\n",
       "<style scoped>\n",
       "    .dataframe tbody tr th:only-of-type {\n",
       "        vertical-align: middle;\n",
       "    }\n",
       "\n",
       "    .dataframe tbody tr th {\n",
       "        vertical-align: top;\n",
       "    }\n",
       "\n",
       "    .dataframe thead th {\n",
       "        text-align: right;\n",
       "    }\n",
       "</style>\n",
       "<table border=\"1\" class=\"dataframe\">\n",
       "  <thead>\n",
       "    <tr style=\"text-align: right;\">\n",
       "      <th></th>\n",
       "      <th>ts_kafka</th>\n",
       "      <th>message</th>\n",
       "    </tr>\n",
       "  </thead>\n",
       "  <tbody>\n",
       "    <tr>\n",
       "      <th>0</th>\n",
       "      <td>2024-12-01 00:00:03</td>\n",
       "      <td>jUoZIupCiFgBPAjykJ4=</td>\n",
       "    </tr>\n",
       "    <tr>\n",
       "      <th>1</th>\n",
       "      <td>2024-12-01 00:00:03</td>\n",
       "      <td>oAAUllilYmBIYPDDtec=</td>\n",
       "    </tr>\n",
       "    <tr>\n",
       "      <th>2</th>\n",
       "      <td>2024-12-01 00:00:03</td>\n",
       "      <td>oAAZEMMJ5TEgP//kyUg=</td>\n",
       "    </tr>\n",
       "    <tr>\n",
       "      <th>3</th>\n",
       "      <td>2024-12-01 00:00:03</td>\n",
       "      <td>jQIBK/gjAAIASbh2gt8=</td>\n",
       "    </tr>\n",
       "    <tr>\n",
       "      <th>4</th>\n",
       "      <td>2024-12-01 00:00:03</td>\n",
       "      <td>XTRCE1QV9w==</td>\n",
       "    </tr>\n",
       "  </tbody>\n",
       "</table>\n",
       "</div>"
      ],
      "text/plain": [
       "              ts_kafka               message\n",
       "0  2024-12-01 00:00:03  jUoZIupCiFgBPAjykJ4=\n",
       "1  2024-12-01 00:00:03  oAAUllilYmBIYPDDtec=\n",
       "2  2024-12-01 00:00:03  oAAZEMMJ5TEgP//kyUg=\n",
       "3  2024-12-01 00:00:03  jQIBK/gjAAIASbh2gt8=\n",
       "4  2024-12-01 00:00:03          XTRCE1QV9w=="
      ]
     },
     "execution_count": 5,
     "metadata": {},
     "output_type": "execute_result"
    }
   ],
   "source": [
    "path = Path(r'data_semana\\data_2024-12-01.csv')\n",
    "csv_file = path\n",
    "df = dd.read_csv(csv_file)\n",
    "df.head()"
   ]
  },
  {
   "cell_type": "markdown",
   "metadata": {
    "id": "iQwXWgtNemOW"
   },
   "source": [
    "### Transformación de la columna \"ts_kafka\"\n",
    "Esta columna representa la fecha y la hora a la que se transmitio el mensaje en cuestión"
   ]
  },
  {
   "cell_type": "code",
   "execution_count": 24,
   "metadata": {
    "colab": {
     "base_uri": "https://localhost:8080/",
     "height": 1000
    },
    "executionInfo": {
     "elapsed": 4238,
     "status": "ok",
     "timestamp": 1738239637845,
     "user": {
      "displayName": "Ignacio Gutiérrez Sánchez",
      "userId": "17479865796464669388"
     },
     "user_tz": -60
    },
    "id": "Fpmup6CrlcOS",
    "outputId": "92d8c29f-5a7d-413d-d194-21591ad76194"
   },
   "outputs": [],
   "source": [
    "# Función para decodificar y convertir a hexadecimal, con manejo de errores\n",
    "def decode_and_hex(base64_message):\n",
    "    try:\n",
    "        decoded_bytes = base64.b64decode(base64_message)\n",
    "        return decoded_bytes.hex()\n",
    "    except (ValueError, TypeError):\n",
    "        # Si el mensaje no es válido, devolver None o un valor por defecto\n",
    "        return None\n"
   ]
  },
  {
   "cell_type": "markdown",
   "metadata": {
    "id": "Txka3Uyfe6DI"
   },
   "source": [
    "### Función transformer\n",
    "Decodifica la columna message con el mensaje correspondiente añadiendo 3 columnas al dataframe"
   ]
  },
  {
   "cell_type": "code",
   "execution_count": 25,
   "metadata": {
    "executionInfo": {
     "elapsed": 765,
     "status": "ok",
     "timestamp": 1738239643730,
     "user": {
      "displayName": "Ignacio Gutiérrez Sánchez",
      "userId": "17479865796464669388"
     },
     "user_tz": -60
    },
    "id": "K0wZfR3hrw8o"
   },
   "outputs": [],
   "source": [
    "def cal_speed(msg):\n",
    "    tc = common.typecode(msg)\n",
    "    if tc is None:\n",
    "        return None\n",
    "    elif 5 <= tc <= 8:  # Comprobamos si el tipo de código está en el rango adecuado\n",
    "        velocity = adsb.velocity(msg)\n",
    "        if velocity is not None:\n",
    "            spd, _, _, _ = velocity  # Extraemos solo la velocidad (spd)\n",
    "            return spd  # Velocidad en nudos\n",
    "    return None  # Si no hay datos de velocidad o el tipo de código no está en el rango adecuado\n",
    "\n",
    "def cal_track(msg):\n",
    "    tc = common.typecode(msg)\n",
    "    if tc is None:\n",
    "        return None\n",
    "    elif 5 <= tc <= 8:  # Comprobamos si el tipo de código está en el rango adecuado\n",
    "        velocity = adsb.velocity(msg)\n",
    "        if velocity is not None:\n",
    "            _, trk, _, _ = velocity  # Extraemos solo el rumbo (trk)\n",
    "            return trk  # Rumbo en grados\n",
    "    return None  # Si no hay datos de rumbo o el tipo de código no está en el rango adecuado\n",
    "\n",
    "def cal_ver_rate(msg):\n",
    "    tc = common.typecode(msg)\n",
    "    if tc is None:\n",
    "        return None\n",
    "    elif 5 <= tc <= 8:  # Comprobamos si el tipo de código está en el rango adecuado\n",
    "        velocity = adsb.velocity(msg)\n",
    "        if velocity is not None:\n",
    "            _, _, vr, _ = velocity  # Extraemos solo la tasa vertical (vr)\n",
    "            return vr  # Tasa vertical en pies/minuto\n",
    "    return None  # Si no hay datos de tasa vertical o el tipo de código no está en el rango adecuado\n"
   ]
  },
  {
   "cell_type": "markdown",
   "metadata": {
    "id": "frzoPRjYfrnf"
   },
   "source": [
    "### Decodificación manual de los 3 bits CA(Transponder capability)\n",
    "Esto toma valores del 0-7 en binario que representan:\n",
    "- 0: Level 1 transponder\n",
    "- 1–3\tReserved\n",
    "- 4\tLevel 2+ transponder, with ability to set CA to 7, on-ground\n",
    "- 5\tLevel 2+ transponder, with ability to set CA to 7, airborne\n",
    "- 6\tLevel 2+ transponder, with ability to set CA to 7, either on-ground or airborne\n",
    "7\tSignifies the Downlink Request value is 0, or the Flight Status is 2, 3, 4, or 5, either airborne or on the ground\n",
    "\n",
    "\n",
    "Ademas, se incluye el ICAO"
   ]
  },
  {
   "cell_type": "code",
   "execution_count": 26,
   "metadata": {},
   "outputs": [],
   "source": [
    "def cal_icao(msg):\n",
    "    icao = common.icao(msg)\n",
    "    return icao\n",
    "\n",
    "# Función para procesar cada mensaje\n",
    "def process_message(message):\n",
    "    aux = pms.hex2bin(message)\n",
    "    aux = aux[5:8]\n",
    "    aux = pms.bin2int(aux)\n",
    "    if aux == 5:\n",
    "        return True\n",
    "    elif aux == 4:\n",
    "        return False\n",
    "    else:\n",
    "        return None"
   ]
  },
  {
   "cell_type": "markdown",
   "metadata": {},
   "source": [
    "11 mins aprox // 1 hora y 10 mins"
   ]
  },
  {
   "cell_type": "code",
   "execution_count": 28,
   "metadata": {},
   "outputs": [
    {
     "data": {
      "text/html": [
       "<div>\n",
       "<style scoped>\n",
       "    .dataframe tbody tr th:only-of-type {\n",
       "        vertical-align: middle;\n",
       "    }\n",
       "\n",
       "    .dataframe tbody tr th {\n",
       "        vertical-align: top;\n",
       "    }\n",
       "\n",
       "    .dataframe thead th {\n",
       "        text-align: right;\n",
       "    }\n",
       "</style>\n",
       "<table border=\"1\" class=\"dataframe\">\n",
       "  <thead>\n",
       "    <tr style=\"text-align: right;\">\n",
       "      <th></th>\n",
       "      <th>ts_kafka</th>\n",
       "      <th>message</th>\n",
       "      <th>ICAO</th>\n",
       "      <th>Capability</th>\n",
       "      <th>Timestamps</th>\n",
       "      <th>Speed</th>\n",
       "      <th>Track</th>\n",
       "      <th>Vertical rate</th>\n",
       "    </tr>\n",
       "  </thead>\n",
       "  <tbody>\n",
       "    <tr>\n",
       "      <th>0</th>\n",
       "      <td>1733011203260</td>\n",
       "      <td>8d4a1922ea428858013c08f2909e</td>\n",
       "      <td>4a1922</td>\n",
       "      <td>True</td>\n",
       "      <td>2024-12-01 00:00:03</td>\n",
       "      <td>NaN</td>\n",
       "      <td>NaN</td>\n",
       "      <td>NaN</td>\n",
       "    </tr>\n",
       "    <tr>\n",
       "      <th>1</th>\n",
       "      <td>1733011203260</td>\n",
       "      <td>a000149658a562604860f0c3b5e7</td>\n",
       "      <td>34640E</td>\n",
       "      <td>None</td>\n",
       "      <td>2024-12-01 00:00:03</td>\n",
       "      <td>NaN</td>\n",
       "      <td>NaN</td>\n",
       "      <td>NaN</td>\n",
       "    </tr>\n",
       "    <tr>\n",
       "      <th>2</th>\n",
       "      <td>1733011203260</td>\n",
       "      <td>a0001910c309e531203fffe4c948</td>\n",
       "      <td>4CADA4</td>\n",
       "      <td>None</td>\n",
       "      <td>2024-12-01 00:00:03</td>\n",
       "      <td>NaN</td>\n",
       "      <td>NaN</td>\n",
       "      <td>NaN</td>\n",
       "    </tr>\n",
       "    <tr>\n",
       "      <th>3</th>\n",
       "      <td>1733011203260</td>\n",
       "      <td>8d02012bf82300020049b87682df</td>\n",
       "      <td>02012b</td>\n",
       "      <td>True</td>\n",
       "      <td>2024-12-01 00:00:03</td>\n",
       "      <td>NaN</td>\n",
       "      <td>NaN</td>\n",
       "      <td>NaN</td>\n",
       "    </tr>\n",
       "    <tr>\n",
       "      <th>4</th>\n",
       "      <td>1733011203260</td>\n",
       "      <td>5d3442135415f7</td>\n",
       "      <td>344213</td>\n",
       "      <td>True</td>\n",
       "      <td>2024-12-01 00:00:03</td>\n",
       "      <td>NaN</td>\n",
       "      <td>NaN</td>\n",
       "      <td>NaN</td>\n",
       "    </tr>\n",
       "  </tbody>\n",
       "</table>\n",
       "</div>"
      ],
      "text/plain": [
       "        ts_kafka                       message    ICAO Capability  \\\n",
       "0  1733011203260  8d4a1922ea428858013c08f2909e  4a1922       True   \n",
       "1  1733011203260  a000149658a562604860f0c3b5e7  34640E       None   \n",
       "2  1733011203260  a0001910c309e531203fffe4c948  4CADA4       None   \n",
       "3  1733011203260  8d02012bf82300020049b87682df  02012b       True   \n",
       "4  1733011203260                5d3442135415f7  344213       True   \n",
       "\n",
       "            Timestamps  Speed  Track  Vertical rate  \n",
       "0  2024-12-01 00:00:03    NaN    NaN            NaN  \n",
       "1  2024-12-01 00:00:03    NaN    NaN            NaN  \n",
       "2  2024-12-01 00:00:03    NaN    NaN            NaN  \n",
       "3  2024-12-01 00:00:03    NaN    NaN            NaN  \n",
       "4  2024-12-01 00:00:03    NaN    NaN            NaN  "
      ]
     },
     "execution_count": 28,
     "metadata": {},
     "output_type": "execute_result"
    }
   ],
   "source": [
    "# Especificar el tipo de salida esperado (meta) para Dask\n",
    "meta = ('message', str)\n",
    "\n",
    "# Aplicar la función a la columna 'message' usando map_partitions\n",
    "df['message'] = df['message'].map(decode_and_hex, meta=meta)\n",
    "\n",
    "df['ICAO'] = df['message'].map(cal_icao, meta=('ICAO', 'int'))\n",
    "\n",
    "# Aplicar la función a la columna 'message' y crear la columna 'Capability'\n",
    "df['Capability'] = df['message'].map(process_message, meta=('Capability', 'bool'))\n",
    "\n",
    "# Convertir a string explícitamente antes de parsear\n",
    "df[\"Timestamps\"] = dd.to_datetime(df[\"ts_kafka\"] / 1000, unit=\"s\", utc=True).dt.strftime('%Y-%m-%d %H:%M:%S')\n",
    "\n",
    "# Aplicar las funciones a la columna 'message'\n",
    "df['Speed'] = df['message'].map(cal_speed, meta=('Speed', 'float'))\n",
    "df['Track'] = df['message'].map(cal_track, meta=('Track', 'float'))\n",
    "df['Vertical rate'] = df['message'].map(cal_ver_rate, meta=('Vertical rate', 'float'))\n",
    "\n",
    "# Ejecutar las operaciones y obtener el resultado\n",
    "result = df.compute()\n",
    "\n",
    "result.head()  # Mostrar las primeras filas del resultado"
   ]
  },
  {
   "cell_type": "code",
   "execution_count": 29,
   "metadata": {},
   "outputs": [],
   "source": [
    "result.to_csv(\"tocho_decoded.csv\", index=False)"
   ]
  },
  {
   "cell_type": "markdown",
   "metadata": {
    "id": "urs443GNfhYG"
   },
   "source": [
    "Muestra de todas las variables distintas que puede tener cada mensaje"
   ]
  },
  {
   "cell_type": "code",
   "execution_count": 30,
   "metadata": {
    "colab": {
     "base_uri": "https://localhost:8080/"
    },
    "executionInfo": {
     "elapsed": 8,
     "status": "ok",
     "timestamp": 1738239656397,
     "user": {
      "displayName": "Ignacio Gutiérrez Sánchez",
      "userId": "17479865796464669388"
     },
     "user_tz": -60
    },
    "id": "AvsWzy2avmvP",
    "outputId": "2df9c5fd-a2b6-4b5d-9f9c-99a5d9f7c23c"
   },
   "outputs": [
    {
     "data": {
      "text/plain": [
       "Index(['ts_kafka', 'message', 'ICAO', 'Capability', 'Timestamps', 'Speed',\n",
       "       'Track', 'Vertical rate'],\n",
       "      dtype='object')"
      ]
     },
     "execution_count": 30,
     "metadata": {},
     "output_type": "execute_result"
    }
   ],
   "source": [
    "df.columns"
   ]
  },
  {
   "cell_type": "markdown",
   "metadata": {
    "id": "WhuaWmhX8ciY"
   },
   "source": [
    "Ahora observamos los tipos de las columnas"
   ]
  },
  {
   "cell_type": "code",
   "execution_count": 31,
   "metadata": {
    "colab": {
     "base_uri": "https://localhost:8080/"
    },
    "executionInfo": {
     "elapsed": 7,
     "status": "ok",
     "timestamp": 1738239656397,
     "user": {
      "displayName": "Ignacio Gutiérrez Sánchez",
      "userId": "17479865796464669388"
     },
     "user_tz": -60
    },
    "id": "-7rxoQHF8gHp",
    "outputId": "418d5c7e-f7aa-4118-c58c-b97175bf3d1e"
   },
   "outputs": [
    {
     "name": "stdout",
     "output_type": "stream",
     "text": [
      "<class 'dask.dataframe.dask_expr.DataFrame'>\n",
      "Columns: 8 entries, ts_kafka to Vertical rate\n",
      "dtypes: object(2), bool(1), float64(3), int32(1), int64(1)"
     ]
    }
   ],
   "source": [
    "df.info()"
   ]
  },
  {
   "cell_type": "markdown",
   "metadata": {},
   "source": [
    "Division por dias del df"
   ]
  },
  {
   "cell_type": "code",
   "execution_count": 7,
   "metadata": {},
   "outputs": [],
   "source": [
    "result[\"Timestamps\"] = pd.to_datetime(result[\"Timestamps\"])\n",
    "\n",
    "# Obtener los días únicos\n",
    "unique_days = result[\"Timestamps\"].dt.date.unique()"
   ]
  },
  {
   "cell_type": "code",
   "execution_count": 9,
   "metadata": {},
   "outputs": [
    {
     "name": "stdout",
     "output_type": "stream",
     "text": [
      "Guardado: output_by_day\\data_2024-12-01.csv\n",
      "Guardado: output_by_day\\data_2024-12-02.csv\n",
      "Guardado: output_by_day\\data_2024-12-03.csv\n",
      "Guardado: output_by_day\\data_2024-12-04.csv\n",
      "Guardado: output_by_day\\data_2024-12-05.csv\n",
      "Guardado: output_by_day\\data_2024-12-06.csv\n",
      "Guardado: output_by_day\\data_2024-12-07.csv\n"
     ]
    }
   ],
   "source": [
    "# Crear una carpeta para guardar los archivos por día\n",
    "output_folder = Path(\"output_by_day\")\n",
    "output_folder.mkdir(exist_ok=True)\n",
    "\n",
    "# Dividir el DataFrame por días y guardar cada grupo en un archivo separado\n",
    "for day in unique_days:\n",
    "    # Filtrar los datos para el día actual sin crear una columna adicional\n",
    "    result_day = result[result[\"Timestamps\"].dt.date == day]\n",
    "\n",
    "    # Guardar el DataFrame en un archivo CSV\n",
    "    output_file = output_folder / f\"data_{day}.csv\"\n",
    "    result_day.to_csv(output_file, index=False)\n",
    "\n",
    "    print(f\"Guardado: {output_file}\")"
   ]
  },
  {
   "cell_type": "markdown",
   "metadata": {},
   "source": [
    "### Visualización de Capability"
   ]
  },
  {
   "cell_type": "code",
   "execution_count": 4,
   "metadata": {},
   "outputs": [
    {
     "data": {
      "text/html": [
       "<div>\n",
       "<style scoped>\n",
       "    .dataframe tbody tr th:only-of-type {\n",
       "        vertical-align: middle;\n",
       "    }\n",
       "\n",
       "    .dataframe tbody tr th {\n",
       "        vertical-align: top;\n",
       "    }\n",
       "\n",
       "    .dataframe thead th {\n",
       "        text-align: right;\n",
       "    }\n",
       "</style>\n",
       "<table border=\"1\" class=\"dataframe\">\n",
       "  <thead>\n",
       "    <tr style=\"text-align: right;\">\n",
       "      <th></th>\n",
       "      <th>ts_kafka</th>\n",
       "      <th>message</th>\n",
       "      <th>ICAO</th>\n",
       "      <th>Capability</th>\n",
       "      <th>Timestamps</th>\n",
       "      <th>Speed</th>\n",
       "      <th>Track</th>\n",
       "      <th>Vertical rate</th>\n",
       "    </tr>\n",
       "  </thead>\n",
       "  <tbody>\n",
       "    <tr>\n",
       "      <th>0</th>\n",
       "      <td>1733011203260</td>\n",
       "      <td>8d4a1922ea428858013c08f2909e</td>\n",
       "      <td>4a1922</td>\n",
       "      <td>True</td>\n",
       "      <td>2024-12-01 00:00:03</td>\n",
       "      <td>NaN</td>\n",
       "      <td>NaN</td>\n",
       "      <td>NaN</td>\n",
       "    </tr>\n",
       "    <tr>\n",
       "      <th>1</th>\n",
       "      <td>1733011203260</td>\n",
       "      <td>a000149658a562604860f0c3b5e7</td>\n",
       "      <td>34640E</td>\n",
       "      <td>&lt;NA&gt;</td>\n",
       "      <td>2024-12-01 00:00:03</td>\n",
       "      <td>NaN</td>\n",
       "      <td>NaN</td>\n",
       "      <td>NaN</td>\n",
       "    </tr>\n",
       "    <tr>\n",
       "      <th>2</th>\n",
       "      <td>1733011203260</td>\n",
       "      <td>a0001910c309e531203fffe4c948</td>\n",
       "      <td>4CADA4</td>\n",
       "      <td>&lt;NA&gt;</td>\n",
       "      <td>2024-12-01 00:00:03</td>\n",
       "      <td>NaN</td>\n",
       "      <td>NaN</td>\n",
       "      <td>NaN</td>\n",
       "    </tr>\n",
       "    <tr>\n",
       "      <th>3</th>\n",
       "      <td>1733011203260</td>\n",
       "      <td>8d02012bf82300020049b87682df</td>\n",
       "      <td>02012b</td>\n",
       "      <td>True</td>\n",
       "      <td>2024-12-01 00:00:03</td>\n",
       "      <td>NaN</td>\n",
       "      <td>NaN</td>\n",
       "      <td>NaN</td>\n",
       "    </tr>\n",
       "    <tr>\n",
       "      <th>4</th>\n",
       "      <td>1733011203260</td>\n",
       "      <td>5d3442135415f7</td>\n",
       "      <td>344213</td>\n",
       "      <td>True</td>\n",
       "      <td>2024-12-01 00:00:03</td>\n",
       "      <td>NaN</td>\n",
       "      <td>NaN</td>\n",
       "      <td>NaN</td>\n",
       "    </tr>\n",
       "  </tbody>\n",
       "</table>\n",
       "</div>"
      ],
      "text/plain": [
       "        ts_kafka                       message    ICAO Capability  \\\n",
       "0  1733011203260  8d4a1922ea428858013c08f2909e  4a1922       True   \n",
       "1  1733011203260  a000149658a562604860f0c3b5e7  34640E       <NA>   \n",
       "2  1733011203260  a0001910c309e531203fffe4c948  4CADA4       <NA>   \n",
       "3  1733011203260  8d02012bf82300020049b87682df  02012b       True   \n",
       "4  1733011203260                5d3442135415f7  344213       True   \n",
       "\n",
       "            Timestamps  Speed  Track  Vertical rate  \n",
       "0  2024-12-01 00:00:03    NaN    NaN            NaN  \n",
       "1  2024-12-01 00:00:03    NaN    NaN            NaN  \n",
       "2  2024-12-01 00:00:03    NaN    NaN            NaN  \n",
       "3  2024-12-01 00:00:03    NaN    NaN            NaN  \n",
       "4  2024-12-01 00:00:03    NaN    NaN            NaN  "
      ]
     },
     "execution_count": 4,
     "metadata": {},
     "output_type": "execute_result"
    }
   ],
   "source": [
    "csv_file = Path(\"tocho_decoded.csv\") \n",
    "df = dd.read_csv(csv_file)\n",
    "result = df.compute()\n",
    "result.head()"
   ]
  },
  {
   "cell_type": "markdown",
   "metadata": {
    "id": "rjs-50anhDC7"
   },
   "source": [
    "Comprobamos que aviones estan en vuelo y cuales estan en tierra.\n",
    "La columna \"Capability\" valor True si estan en vuelo y valor False estan en tierra"
   ]
  },
  {
   "cell_type": "code",
   "execution_count": 10,
   "metadata": {
    "colab": {
     "base_uri": "https://localhost:8080/",
     "height": 178
    },
    "executionInfo": {
     "elapsed": 21,
     "status": "ok",
     "timestamp": 1738239671822,
     "user": {
      "displayName": "Ignacio Gutiérrez Sánchez",
      "userId": "17479865796464669388"
     },
     "user_tz": -60
    },
    "id": "cVjbHITZhDip",
    "outputId": "2d75db0c-4ac6-4dca-ab50-2b5724083e4d"
   },
   "outputs": [
    {
     "data": {
      "text/plain": [
       "Capability\n",
       "True     94651183\n",
       "False    10549618\n",
       "Name: count, dtype: int64[pyarrow]"
      ]
     },
     "execution_count": 10,
     "metadata": {},
     "output_type": "execute_result"
    }
   ],
   "source": [
    "result[\"Capability\"].value_counts()"
   ]
  },
  {
   "cell_type": "code",
   "execution_count": 11,
   "metadata": {
    "colab": {
     "base_uri": "https://localhost:8080/",
     "height": 549
    },
    "executionInfo": {
     "elapsed": 20,
     "status": "ok",
     "timestamp": 1738239671822,
     "user": {
      "displayName": "Ignacio Gutiérrez Sánchez",
      "userId": "17479865796464669388"
     },
     "user_tz": -60
    },
    "id": "Qc09v_wznc3V",
    "outputId": "cc487feb-c665-49b1-f805-f4e58bf2735b"
   },
   "outputs": [
    {
     "data": {
      "image/png": "[encoded data removed]",
      "text/plain": [
       "<Figure size 800x500 with 1 Axes>"
      ]
     },
     "metadata": {},
     "output_type": "display_data"
    }
   ],
   "source": [
    "# Contar los valores y convertir a Pandas\n",
    "counts = result[\"Capability\"].value_counts()\n",
    "\n",
    "# Asegurar que el índice es booleano y convertirlo a string para evitar problemas de etiquetas\n",
    "counts.index = counts.index.astype(str)\n",
    "\n",
    "# Crear la figura y la gráfica de barras\n",
    "plt.figure(figsize=(8, 5))\n",
    "bars = plt.bar(counts.index, counts.values, color='skyblue', edgecolor='black')\n",
    "\n",
    "# Agregar etiquetas con los valores exactos en cada barra con inclinación\n",
    "for bar in bars:\n",
    "    yval = bar.get_height()\n",
    "    plt.text(bar.get_x() + bar.get_width()/2, yval, f'{yval:,}', \n",
    "             ha='center', va='bottom', fontsize=10, rotation=45)\n",
    "\n",
    "# Configurar ejes y título\n",
    "plt.yscale(\"log\")  # Escala logarítmica para manejar valores grandes\n",
    "plt.xticks(ticks=[0, 1], labels=[\"True\", \"False\"])  # Etiquetas específicas en X\n",
    "plt.xlabel(\"Capability (False / True)\")\n",
    "plt.ylabel(\"Count (log scale)\")\n",
    "plt.title(\"Distribution of Capability\")\n",
    "plt.grid(axis=\"y\", linestyle=\"--\", alpha=0.7)  # Líneas guía en Y\n",
    "\n",
    "# Mostrar la gráfica\n",
    "plt.show()"
   ]
  },
  {
   "cell_type": "markdown",
   "metadata": {
    "id": "STvdmwD4x17A"
   },
   "source": [
    "Visualizamos de nuevo la columna df[\"Capability\"]"
   ]
  },
  {
   "cell_type": "code",
   "execution_count": 12,
   "metadata": {
    "colab": {
     "base_uri": "https://localhost:8080/",
     "height": 646
    },
    "executionInfo": {
     "elapsed": 6,
     "status": "ok",
     "timestamp": 1738239698892,
     "user": {
      "displayName": "Ignacio Gutiérrez Sánchez",
      "userId": "17479865796464669388"
     },
     "user_tz": -60
    },
    "id": "0Oh8aYH1xxJf",
    "outputId": "34998d62-c236-4b0c-cac3-c3a1bde73415"
   },
   "outputs": [
    {
     "data": {
      "image/png": "[encoded data removed]",
      "text/plain": [
       "<Figure size 1400x700 with 2 Axes>"
      ]
     },
     "metadata": {},
     "output_type": "display_data"
    }
   ],
   "source": [
    "# Contar los valores y convertir a Pandas\n",
    "counts = result[\"Capability\"].value_counts()\n",
    "\n",
    "# Crear una figura con dos subgráficas (una fila, dos columnas)\n",
    "fig, axes = plt.subplots(1, 2, figsize=(14, 7))\n",
    "\n",
    "# Graficar el conteo en la primera subgráfica (barra horizontal)\n",
    "counts.plot(kind='barh', color='green', edgecolor='black', ax=axes[0])\n",
    "axes[0].set_xlabel('Count')\n",
    "axes[0].set_ylabel('Capability')\n",
    "axes[0].set_title('Distribution of Capability (Barh)')\n",
    "axes[0].grid(axis='x', linestyle='--', alpha=0.7)  # Agregar líneas de guía\n",
    "\n",
    "for i, v in enumerate(counts):\n",
    "    axes[0].text(v + 0.1, i, str(v), color='black', fontsize=10, va='center')\n",
    "\n",
    "# Graficar el conteo en la segunda subgráfica (gráfico de tarta)\n",
    "axes[1].pie(counts, labels=counts.index, autopct='%1.1f%%', \n",
    "            colors=['lightgreen', 'darkgreen'], startangle=90, textprops={'fontsize': 10})\n",
    "axes[1].set_title('Distribution of Capability (Pie)')\n",
    "\n",
    "# Ajustar diseño\n",
    "plt.tight_layout()\n",
    "\n",
    "# Mostrar la figura\n",
    "plt.show()"
   ]
  },
  {
   "cell_type": "code",
   "execution_count": 15,
   "metadata": {},
   "outputs": [
    {
     "data": {
      "image/png": "[encoded data removed]",
      "text/plain": [
       "<Figure size 1800x1200 with 7 Axes>"
      ]
     },
     "metadata": {},
     "output_type": "display_data"
    }
   ],
   "source": [
    "# Ruta a la carpeta donde están los archivos por día\n",
    "output_folder = Path(\"output_by_day\")\n",
    "\n",
    "# Obtener la lista de archivos CSV en la carpeta\n",
    "csv_files = list(output_folder.glob(\"data_*.csv\"))\n",
    "\n",
    "# Determinar el número de filas y columnas para los subgráficos (6 columnas por fila)\n",
    "n_rows = (len(csv_files) // 4) + (1 if len(csv_files) % 4 != 0 else 0)\n",
    "n_cols = 4\n",
    "\n",
    "# Crear la figura con el tamaño adecuado\n",
    "fig, axes = plt.subplots(n_rows, n_cols, figsize=(18, 6 * n_rows))\n",
    "\n",
    "# Aplanar el array de ejes para iterar\n",
    "axes = axes.flatten()\n",
    "\n",
    "# Crear una gráfica para cada archivo CSV (día)\n",
    "for i, csv_file in enumerate(csv_files):\n",
    "    ax = axes[i]\n",
    "\n",
    "    # Leer el archivo CSV correspondiente al día\n",
    "    data_day = pd.read_csv(csv_file)\n",
    "\n",
    "    # Contar los valores de Capability para este día\n",
    "    counts = data_day[\"Capability\"].value_counts()\n",
    "\n",
    "    # Asegurar que el índice es booleano y convertirlo a string para evitar problemas de etiquetas\n",
    "    counts.index = counts.index.astype(str)\n",
    "\n",
    "    # Graficar las barras para este día\n",
    "    bars = ax.bar(counts.index, counts.values, color='skyblue', edgecolor='black')\n",
    "\n",
    "    # Agregar etiquetas con los valores exactos en cada barra con inclinación\n",
    "    for bar in bars:\n",
    "        yval = bar.get_height()\n",
    "        ax.text(bar.get_x() + bar.get_width() / 2, yval, f'{yval:,}', \n",
    "                 ha='center', va='bottom', fontsize=10, rotation=45)\n",
    "\n",
    "    # Configurar ejes y título\n",
    "    ax.set_yscale(\"log\")  # Escala logarítmica para manejar valores grandes\n",
    "    ax.set_xticks(ticks=[0, 1])  # Posiciones de las etiquetas en X\n",
    "    ax.set_xticklabels([\"False\", \"True\"])  # Etiquetas específicas en X\n",
    "    ax.set_xlabel(\"Capability (False / True)\")\n",
    "    ax.set_ylabel(\"Count (log scale)\")\n",
    "    ax.set_title(f\"Day {csv_file.stem.split('_')[1]}\")  # Extraer la fecha del nombre del archivo\n",
    "    ax.grid(axis=\"y\", linestyle=\"--\", alpha=0.7)  # Líneas guía en Y\n",
    "\n",
    "# Ajustar el diseño para que no se sobrepongan\n",
    "plt.tight_layout()\n",
    "\n",
    "# Eliminar ejes no utilizados si es necesario\n",
    "for i in range(len(csv_files), len(axes)):\n",
    "    fig.delaxes(axes[i])\n",
    "\n",
    "# Mostrar la figura\n",
    "plt.show()"
   ]
  },
  {
   "cell_type": "code",
   "execution_count": null,
   "metadata": {},
   "outputs": [],
   "source": []
  }
 ],
 "metadata": {
  "colab": {
   "provenance": []
  },
  "kernelspec": {
   "display_name": "Python 3 (ipykernel)",
   "language": "python",
   "name": "python3"
  },
  "language_info": {
   "codemirror_mode": {
    "name": "ipython",
    "version": 3
   },
   "file_extension": ".py",
   "mimetype": "text/x-python",
   "name": "python",
   "nbconvert_exporter": "python",
   "pygments_lexer": "ipython3",
   "version": "3.12.3"
  }
 },
 "nbformat": 4,
 "nbformat_minor": 4
}
